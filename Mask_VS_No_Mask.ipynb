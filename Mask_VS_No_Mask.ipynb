{
  "nbformat": 4,
  "nbformat_minor": 0,
  "metadata": {
    "colab": {
      "name": "Mask VS No Mask.ipynb",
      "provenance": []
    },
    "kernelspec": {
      "name": "python3",
      "display_name": "Python 3"
    }
  },
  "cells": [
    {
      "cell_type": "code",
      "metadata": {
        "id": "m8WDXBPFlh7t",
        "colab_type": "code",
        "outputId": "827b49e6-6b2d-456e-eb5a-327f7c3f8f3c",
        "colab": {
          "base_uri": "https://localhost:8080/",
          "height": 34
        }
      },
      "source": [
        "%tensorflow_version 1.x\n",
        "import tensorflow as tf\n",
        "from tensorflow.keras.preprocessing.image import ImageDataGenerator\n",
        "\n",
        "print(tensorflow.__version__)"
      ],
      "execution_count": 0,
      "outputs": [
        {
          "output_type": "stream",
          "text": [
            "1.15.2\n"
          ],
          "name": "stdout"
        }
      ]
    },
    {
      "cell_type": "code",
      "metadata": {
        "id": "6cS2dmQClmpq",
        "colab_type": "code",
        "outputId": "5e8e59bd-34c3-4c0e-ad49-104ad6a43530",
        "colab": {
          "base_uri": "https://localhost:8080/",
          "height": 84
        }
      },
      "source": [
        "!mkdir /root/.kaggle\n",
        "!echo '{\"username\":\"vignesh77\",\"key\":\"your key\"}' > /root/.kaggle/kaggle.json\n",
        "\n",
        "!kaggle datasets download -d ahmetfurkandemr/mask-datasets-v1"
      ],
      "execution_count": 0,
      "outputs": [
        {
          "output_type": "stream",
          "text": [
            "Warning: Your Kaggle API key is readable by other users on this system! To fix this, you can run 'chmod 600 /root/.kaggle/kaggle.json'\n",
            "Downloading mask-datasets-v1.zip to /content\n",
            "100% 754M/754M [00:07<00:00, 126MB/s]\n",
            "\n"
          ],
          "name": "stdout"
        }
      ]
    },
    {
      "cell_type": "code",
      "metadata": {
        "id": "Uuu1W9x-l2Va",
        "colab_type": "code",
        "colab": {}
      },
      "source": [
        "\n",
        "import os\n",
        "import zipfile\n",
        "\n",
        "local_zip = '/content/mask-datasets-v1.zip'\n",
        "\n",
        "zip_ref = zipfile.ZipFile(local_zip, 'r')\n",
        "\n",
        "zip_ref.extractall('/content')\n",
        "zip_ref.close()"
      ],
      "execution_count": 0,
      "outputs": []
    },
    {
      "cell_type": "code",
      "metadata": {
        "id": "fc-Umlynl5dc",
        "colab_type": "code",
        "outputId": "a2ebd863-f624-4e8b-8903-43f678b3a97b",
        "colab": {
          "base_uri": "https://localhost:8080/",
          "height": 50
        }
      },
      "source": [
        "import os\n",
        "# Define our example directories and files\n",
        "base_dir = '/content/Mask_Datasets'\n",
        "\n",
        "train_dir = os.path.join( base_dir, 'Train')\n",
        "validation_dir = os.path.join( base_dir, 'Validation')\n",
        "\n",
        "\n",
        "\n",
        "train_3_dir = os.path.join(train_dir, 'Mask') \n",
        "\n",
        "train_4_dir = os.path.join(train_dir, 'No_mask') \n",
        "\n",
        "\n",
        "\n",
        "validation_3_dir = os.path.join(validation_dir, 'Mask')\n",
        "\n",
        "validation_4_dir = os.path.join(validation_dir, 'No_mask') \n",
        "\n",
        "\n",
        "train_3_fnames = os.listdir(train_3_dir)\n",
        "train_4_fnames = os.listdir(train_4_dir)\n",
        "\n",
        "\n",
        "# Add our data-augmentation parameters to ImageDataGenerator\n",
        "train_datagen = ImageDataGenerator(rescale = 1./255,rotation_range=15,\n",
        "                                    width_shift_range=0.15,\n",
        "                                    height_shift_range=0.15,\n",
        "                                    shear_range=0.15,\n",
        "                                    zoom_range=0.15,\n",
        "                                    horizontal_flip=True,)\n",
        "\n",
        "test_datagen = ImageDataGenerator(rescale = 1./255)\n",
        "\n",
        "train_generator = train_datagen.flow_from_directory(train_dir,\n",
        "                                                    batch_size = 32,\n",
        "                                                    class_mode = 'binary', \n",
        "                                                    target_size = (150,150))     \n",
        "\n",
        "validation_generator =  test_datagen.flow_from_directory( validation_dir,\n",
        "                                                          batch_size  = 32,\n",
        "                                                          class_mode  = 'binary', \n",
        "                                                          target_size = (150, 150))\n"
      ],
      "execution_count": 0,
      "outputs": [
        {
          "output_type": "stream",
          "text": [
            "Found 750 images belonging to 2 classes.\n",
            "Found 350 images belonging to 2 classes.\n"
          ],
          "name": "stdout"
        }
      ]
    },
    {
      "cell_type": "code",
      "metadata": {
        "id": "uuAguy_UmHxl",
        "colab_type": "code",
        "outputId": "425e9551-fbf1-4dba-be4a-ccd94e22cc32",
        "colab": {
          "base_uri": "https://localhost:8080/",
          "height": 487
        }
      },
      "source": [
        "\n",
        "\n",
        "model = tf.keras.models.Sequential([\n",
        "    \n",
        "    tf.keras.layers.Conv2D(64, (3,3), activation='relu', input_shape=(150, 150, 3)),\n",
        "    \n",
        "      \n",
        "    tf.keras.layers.MaxPooling2D(2,2),\n",
        "\n",
        "    tf.keras.layers.Conv2D(128, (3,3), activation='relu'),\n",
        "    \n",
        "      \n",
        "    tf.keras.layers.MaxPooling2D(2,2),\n",
        "\n",
        "    tf.keras.layers.Conv2D(246, (3,3), activation='relu'),\n",
        "\n",
        "      \n",
        "    tf.keras.layers.MaxPooling2D(2,2),\n",
        "    tf.keras.layers.Dropout(0.5),\n",
        "\n",
        "\n",
        "    tf.keras.layers.Flatten(),\n",
        "    tf.keras.layers.Dense(128, activation='relu'),\n",
        "\n",
        "\n",
        "    tf.keras.layers.Dense(1, activation='sigmoid')\n",
        "])\n",
        "model.summary()"
      ],
      "execution_count": 0,
      "outputs": [
        {
          "output_type": "stream",
          "text": [
            "Model: \"sequential_3\"\n",
            "_________________________________________________________________\n",
            "Layer (type)                 Output Shape              Param #   \n",
            "=================================================================\n",
            "conv2d_9 (Conv2D)            (None, 148, 148, 64)      1792      \n",
            "_________________________________________________________________\n",
            "max_pooling2d_9 (MaxPooling2 (None, 74, 74, 64)        0         \n",
            "_________________________________________________________________\n",
            "conv2d_10 (Conv2D)           (None, 72, 72, 128)       73856     \n",
            "_________________________________________________________________\n",
            "max_pooling2d_10 (MaxPooling (None, 36, 36, 128)       0         \n",
            "_________________________________________________________________\n",
            "conv2d_11 (Conv2D)           (None, 34, 34, 246)       283638    \n",
            "_________________________________________________________________\n",
            "max_pooling2d_11 (MaxPooling (None, 17, 17, 246)       0         \n",
            "_________________________________________________________________\n",
            "dropout_4 (Dropout)          (None, 17, 17, 246)       0         \n",
            "_________________________________________________________________\n",
            "flatten_3 (Flatten)          (None, 71094)             0         \n",
            "_________________________________________________________________\n",
            "dense_6 (Dense)              (None, 128)               9100160   \n",
            "_________________________________________________________________\n",
            "dense_7 (Dense)              (None, 1)                 129       \n",
            "=================================================================\n",
            "Total params: 9,459,575\n",
            "Trainable params: 9,459,575\n",
            "Non-trainable params: 0\n",
            "_________________________________________________________________\n"
          ],
          "name": "stdout"
        }
      ]
    },
    {
      "cell_type": "code",
      "metadata": {
        "id": "xrOtI3ZDmrrF",
        "colab_type": "code",
        "colab": {}
      },
      "source": [
        "from tensorflow.keras.optimizers import RMSprop\n",
        "\n",
        "model.compile(loss = 'binary_crossentropy', optimizer=RMSprop(lr=0.001), metrics=['accuracy'])\n"
      ],
      "execution_count": 0,
      "outputs": []
    },
    {
      "cell_type": "code",
      "metadata": {
        "id": "YI5Nu40fm2gx",
        "colab_type": "code",
        "outputId": "7551580b-ec97-4b7d-d2b7-6e76055b2fc4",
        "colab": {
          "base_uri": "https://localhost:8080/",
          "height": 1000
        }
      },
      "source": [
        "history = model.fit(train_generator, epochs=100, steps_per_epoch=23, validation_data = validation_generator, verbose = 1, validation_steps=10)\n"
      ],
      "execution_count": 0,
      "outputs": [
        {
          "output_type": "stream",
          "text": [
            "Epoch 1/100\n",
            "22/23 [===========================>..] - ETA: 4s - loss: 2.3306 - acc: 0.5350Epoch 1/100\n",
            "23/23 [==============================] - 112s 5s/step - loss: 2.2603 - acc: 0.5487 - val_loss: 0.6413 - val_acc: 0.5781\n",
            "Epoch 2/100\n",
            "22/23 [===========================>..] - ETA: 4s - loss: 0.6783 - acc: 0.6064Epoch 1/100\n",
            "23/23 [==============================] - 112s 5s/step - loss: 0.6856 - acc: 0.6017 - val_loss: 0.6487 - val_acc: 0.6969\n",
            "Epoch 3/100\n",
            "22/23 [===========================>..] - ETA: 4s - loss: 0.5764 - acc: 0.7420Epoch 1/100\n",
            "23/23 [==============================] - 112s 5s/step - loss: 0.5701 - acc: 0.7479 - val_loss: 0.3975 - val_acc: 0.8500\n",
            "Epoch 4/100\n",
            "22/23 [===========================>..] - ETA: 4s - loss: 0.4424 - acc: 0.8236Epoch 1/100\n",
            "23/23 [==============================] - 115s 5s/step - loss: 0.4296 - acc: 0.8287 - val_loss: 0.2972 - val_acc: 0.9000\n",
            "Epoch 5/100\n",
            "22/23 [===========================>..] - ETA: 4s - loss: 0.4194 - acc: 0.8324Epoch 1/100\n",
            "23/23 [==============================] - 113s 5s/step - loss: 0.4242 - acc: 0.8273 - val_loss: 0.3717 - val_acc: 0.8844\n",
            "Epoch 6/100\n",
            "22/23 [===========================>..] - ETA: 4s - loss: 0.3482 - acc: 0.8528Epoch 1/100\n",
            "23/23 [==============================] - 112s 5s/step - loss: 0.3807 - acc: 0.8412 - val_loss: 0.8350 - val_acc: 0.6281\n",
            "Epoch 7/100\n",
            "22/23 [===========================>..] - ETA: 4s - loss: 0.3363 - acc: 0.8523Epoch 1/100\n",
            "23/23 [==============================] - 115s 5s/step - loss: 0.3306 - acc: 0.8573 - val_loss: 0.2627 - val_acc: 0.8844\n",
            "Epoch 8/100\n",
            "22/23 [===========================>..] - ETA: 4s - loss: 0.3086 - acc: 0.8862Epoch 1/100\n",
            "23/23 [==============================] - 110s 5s/step - loss: 0.3060 - acc: 0.8857 - val_loss: 0.1856 - val_acc: 0.9375\n",
            "Epoch 9/100\n",
            "22/23 [===========================>..] - ETA: 4s - loss: 0.3428 - acc: 0.8580Epoch 1/100\n",
            "23/23 [==============================] - 114s 5s/step - loss: 0.3398 - acc: 0.8587 - val_loss: 0.2143 - val_acc: 0.9156\n",
            "Epoch 10/100\n",
            "22/23 [===========================>..] - ETA: 4s - loss: 0.2737 - acc: 0.8892Epoch 1/100\n",
            "23/23 [==============================] - 112s 5s/step - loss: 0.2771 - acc: 0.8886 - val_loss: 0.1874 - val_acc: 0.9250\n",
            "Epoch 11/100\n",
            "22/23 [===========================>..] - ETA: 4s - loss: 0.2673 - acc: 0.8878Epoch 1/100\n",
            "23/23 [==============================] - 114s 5s/step - loss: 0.2642 - acc: 0.8886 - val_loss: 0.2451 - val_acc: 0.9062\n",
            "Epoch 12/100\n",
            "22/23 [===========================>..] - ETA: 4s - loss: 0.2402 - acc: 0.9155Epoch 1/100\n",
            "23/23 [==============================] - 111s 5s/step - loss: 0.2369 - acc: 0.9150 - val_loss: 0.1333 - val_acc: 0.9531\n",
            "Epoch 13/100\n",
            "22/23 [===========================>..] - ETA: 3s - loss: 0.2282 - acc: 0.9140Epoch 1/100\n",
            "23/23 [==============================] - 110s 5s/step - loss: 0.2272 - acc: 0.9150 - val_loss: 0.1458 - val_acc: 0.9469\n",
            "Epoch 14/100\n",
            "22/23 [===========================>..] - ETA: 4s - loss: 0.2641 - acc: 0.8805Epoch 1/100\n",
            "23/23 [==============================] - 111s 5s/step - loss: 0.2630 - acc: 0.8816 - val_loss: 0.1939 - val_acc: 0.9250\n",
            "Epoch 15/100\n",
            "22/23 [===========================>..] - ETA: 4s - loss: 0.2218 - acc: 0.9257Epoch 1/100\n",
            "23/23 [==============================] - 113s 5s/step - loss: 0.2153 - acc: 0.9262 - val_loss: 0.1652 - val_acc: 0.9219\n",
            "Epoch 16/100\n",
            "22/23 [===========================>..] - ETA: 4s - loss: 0.2743 - acc: 0.9023Epoch 1/100\n",
            "23/23 [==============================] - 110s 5s/step - loss: 0.2789 - acc: 0.8997 - val_loss: 0.2133 - val_acc: 0.9094\n",
            "Epoch 17/100\n",
            "22/23 [===========================>..] - ETA: 3s - loss: 0.1960 - acc: 0.9251Epoch 1/100\n",
            "23/23 [==============================] - 108s 5s/step - loss: 0.2020 - acc: 0.9257 - val_loss: 0.6572 - val_acc: 0.8062\n",
            "Epoch 18/100\n",
            "22/23 [===========================>..] - ETA: 4s - loss: 0.2229 - acc: 0.9148Epoch 1/100\n",
            "23/23 [==============================] - 111s 5s/step - loss: 0.2197 - acc: 0.9171 - val_loss: 0.1218 - val_acc: 0.9469\n",
            "Epoch 19/100\n",
            "22/23 [===========================>..] - ETA: 3s - loss: 0.2297 - acc: 0.9155Epoch 1/100\n",
            "23/23 [==============================] - 109s 5s/step - loss: 0.2369 - acc: 0.9136 - val_loss: 0.2336 - val_acc: 0.9219\n",
            "Epoch 20/100\n",
            "22/23 [===========================>..] - ETA: 3s - loss: 0.1618 - acc: 0.9359Epoch 1/100\n",
            "23/23 [==============================] - 110s 5s/step - loss: 0.1616 - acc: 0.9345 - val_loss: 0.1833 - val_acc: 0.9250\n",
            "Epoch 21/100\n",
            "22/23 [===========================>..] - ETA: 3s - loss: 0.2359 - acc: 0.9027Epoch 1/100\n",
            "23/23 [==============================] - 110s 5s/step - loss: 0.2317 - acc: 0.9029 - val_loss: 0.0990 - val_acc: 0.9563\n",
            "Epoch 22/100\n",
            "22/23 [===========================>..] - ETA: 3s - loss: 0.1452 - acc: 0.9503Epoch 1/100\n",
            "23/23 [==============================] - 111s 5s/step - loss: 0.1422 - acc: 0.9511 - val_loss: 0.0859 - val_acc: 0.9688\n",
            "Epoch 23/100\n",
            "22/23 [===========================>..] - ETA: 3s - loss: 0.1968 - acc: 0.9271Epoch 1/100\n",
            "23/23 [==============================] - 109s 5s/step - loss: 0.1959 - acc: 0.9276 - val_loss: 0.0931 - val_acc: 0.9531\n",
            "Epoch 24/100\n",
            "22/23 [===========================>..] - ETA: 3s - loss: 0.2324 - acc: 0.9155Epoch 1/100\n",
            "23/23 [==============================] - 108s 5s/step - loss: 0.2299 - acc: 0.9136 - val_loss: 0.0876 - val_acc: 0.9625\n",
            "Epoch 25/100\n",
            "22/23 [===========================>..] - ETA: 3s - loss: 0.1321 - acc: 0.9504Epoch 1/100\n",
            "23/23 [==============================] - 104s 5s/step - loss: 0.1401 - acc: 0.9471 - val_loss: 0.3549 - val_acc: 0.8781\n",
            "Epoch 26/100\n",
            "22/23 [===========================>..] - ETA: 4s - loss: 0.1829 - acc: 0.9446Epoch 1/100\n",
            "23/23 [==============================] - 113s 5s/step - loss: 0.1762 - acc: 0.9457 - val_loss: 0.1337 - val_acc: 0.9563\n",
            "Epoch 27/100\n",
            "22/23 [===========================>..] - ETA: 4s - loss: 0.1911 - acc: 0.9300Epoch 1/100\n",
            "23/23 [==============================] - 111s 5s/step - loss: 0.1969 - acc: 0.9276 - val_loss: 0.2060 - val_acc: 0.9187\n",
            "Epoch 28/100\n",
            "22/23 [===========================>..] - ETA: 4s - loss: 0.1628 - acc: 0.9359Epoch 1/100\n",
            "23/23 [==============================] - 110s 5s/step - loss: 0.1586 - acc: 0.9373 - val_loss: 0.0873 - val_acc: 0.9594\n",
            "Epoch 29/100\n",
            "22/23 [===========================>..] - ETA: 4s - loss: 0.1734 - acc: 0.9446Epoch 1/100\n",
            "23/23 [==============================] - 110s 5s/step - loss: 0.1779 - acc: 0.9443 - val_loss: 0.1450 - val_acc: 0.9469\n",
            "Epoch 30/100\n",
            "22/23 [===========================>..] - ETA: 4s - loss: 0.1836 - acc: 0.9315Epoch 1/100\n",
            "23/23 [==============================] - 110s 5s/step - loss: 0.1806 - acc: 0.9318 - val_loss: 0.1259 - val_acc: 0.9625\n",
            "Epoch 31/100\n",
            "22/23 [===========================>..] - ETA: 4s - loss: 0.0945 - acc: 0.9702Epoch 1/100\n",
            "23/23 [==============================] - 112s 5s/step - loss: 0.0939 - acc: 0.9701 - val_loss: 0.2562 - val_acc: 0.9156\n",
            "Epoch 32/100\n",
            "22/23 [===========================>..] - ETA: 4s - loss: 0.1471 - acc: 0.9461Epoch 1/100\n",
            "23/23 [==============================] - 111s 5s/step - loss: 0.1437 - acc: 0.9486 - val_loss: 0.1152 - val_acc: 0.9594\n",
            "Epoch 33/100\n",
            "22/23 [===========================>..] - ETA: 4s - loss: 0.1742 - acc: 0.9373Epoch 1/100\n",
            "23/23 [==============================] - 110s 5s/step - loss: 0.1705 - acc: 0.9387 - val_loss: 0.1335 - val_acc: 0.9375\n",
            "Epoch 34/100\n",
            "22/23 [===========================>..] - ETA: 4s - loss: 0.1116 - acc: 0.9475Epoch 1/100\n",
            "23/23 [==============================] - 110s 5s/step - loss: 0.1138 - acc: 0.9457 - val_loss: 0.2308 - val_acc: 0.9312\n",
            "Epoch 35/100\n",
            "22/23 [===========================>..] - ETA: 4s - loss: 0.1386 - acc: 0.9545Epoch 1/100\n",
            "23/23 [==============================] - 112s 5s/step - loss: 0.1435 - acc: 0.9511 - val_loss: 0.1892 - val_acc: 0.9406\n",
            "Epoch 36/100\n",
            "22/23 [===========================>..] - ETA: 3s - loss: 0.1109 - acc: 0.9581Epoch 1/100\n",
            "23/23 [==============================] - 108s 5s/step - loss: 0.1106 - acc: 0.9586 - val_loss: 0.1182 - val_acc: 0.9656\n",
            "Epoch 37/100\n",
            "22/23 [===========================>..] - ETA: 4s - loss: 0.1309 - acc: 0.9574Epoch 1/100\n",
            "23/23 [==============================] - 113s 5s/step - loss: 0.1349 - acc: 0.9538 - val_loss: 0.2396 - val_acc: 0.9312\n",
            "Epoch 38/100\n",
            "22/23 [===========================>..] - ETA: 3s - loss: 0.1532 - acc: 0.9431Epoch 1/100\n",
            "23/23 [==============================] - 108s 5s/step - loss: 0.1485 - acc: 0.9457 - val_loss: 0.0759 - val_acc: 0.9688\n",
            "Epoch 39/100\n",
            "22/23 [===========================>..] - ETA: 4s - loss: 0.1145 - acc: 0.9616Epoch 1/100\n",
            "23/23 [==============================] - 111s 5s/step - loss: 0.1146 - acc: 0.9620 - val_loss: 0.1376 - val_acc: 0.9500\n",
            "Epoch 40/100\n",
            "22/23 [===========================>..] - ETA: 3s - loss: 0.1191 - acc: 0.9521Epoch 1/100\n",
            "23/23 [==============================] - 107s 5s/step - loss: 0.1340 - acc: 0.9486 - val_loss: 0.1425 - val_acc: 0.9375\n",
            "Epoch 41/100\n",
            "22/23 [===========================>..] - ETA: 4s - loss: 0.1364 - acc: 0.9517Epoch 1/100\n",
            "23/23 [==============================] - 111s 5s/step - loss: 0.1688 - acc: 0.9443 - val_loss: 0.4031 - val_acc: 0.8813\n",
            "Epoch 42/100\n",
            "22/23 [===========================>..] - ETA: 3s - loss: 0.1201 - acc: 0.9581Epoch 1/100\n",
            "23/23 [==============================] - 107s 5s/step - loss: 0.1362 - acc: 0.9529 - val_loss: 0.1069 - val_acc: 0.9656\n",
            "Epoch 43/100\n",
            "22/23 [===========================>..] - ETA: 3s - loss: 0.0696 - acc: 0.9781Epoch 1/100\n",
            "23/23 [==============================] - 112s 5s/step - loss: 0.0698 - acc: 0.9777 - val_loss: 0.1004 - val_acc: 0.9594\n",
            "Epoch 44/100\n",
            "22/23 [===========================>..] - ETA: 3s - loss: 0.1132 - acc: 0.9659Epoch 1/100\n",
            "23/23 [==============================] - 111s 5s/step - loss: 0.1142 - acc: 0.9660 - val_loss: 0.1734 - val_acc: 0.9469\n",
            "Epoch 45/100\n",
            "22/23 [===========================>..] - ETA: 3s - loss: 0.1397 - acc: 0.9548Epoch 1/100\n",
            "23/23 [==============================] - 109s 5s/step - loss: 0.1383 - acc: 0.9554 - val_loss: 0.0805 - val_acc: 0.9625\n",
            "Epoch 46/100\n",
            "22/23 [===========================>..] - ETA: 3s - loss: 0.0919 - acc: 0.9621Epoch 1/100\n",
            "23/23 [==============================] - 108s 5s/step - loss: 0.0890 - acc: 0.9638 - val_loss: 0.0854 - val_acc: 0.9750\n",
            "Epoch 47/100\n",
            "22/23 [===========================>..] - ETA: 3s - loss: 0.1290 - acc: 0.9534Epoch 1/100\n",
            "23/23 [==============================] - 109s 5s/step - loss: 0.1248 - acc: 0.9554 - val_loss: 0.0967 - val_acc: 0.9594\n",
            "Epoch 48/100\n",
            "22/23 [===========================>..] - ETA: 3s - loss: 0.1117 - acc: 0.9606Epoch 1/100\n",
            "23/23 [==============================] - 109s 5s/step - loss: 0.1071 - acc: 0.9624 - val_loss: 0.0760 - val_acc: 0.9719\n",
            "Epoch 49/100\n",
            "22/23 [===========================>..] - ETA: 3s - loss: 0.1273 - acc: 0.9563Epoch 1/100\n",
            "23/23 [==============================] - 105s 5s/step - loss: 0.1243 - acc: 0.9568 - val_loss: 0.1004 - val_acc: 0.9625\n",
            "Epoch 50/100\n",
            "22/23 [===========================>..] - ETA: 4s - loss: 0.0971 - acc: 0.9631Epoch 1/100\n",
            "23/23 [==============================] - 112s 5s/step - loss: 0.0946 - acc: 0.9633 - val_loss: 0.0798 - val_acc: 0.9688\n",
            "Epoch 51/100\n",
            "22/23 [===========================>..] - ETA: 3s - loss: 0.0947 - acc: 0.9731Epoch 1/100\n",
            "23/23 [==============================] - 108s 5s/step - loss: 0.1260 - acc: 0.9671 - val_loss: 0.2017 - val_acc: 0.9281\n",
            "Epoch 52/100\n",
            "22/23 [===========================>..] - ETA: 4s - loss: 0.0838 - acc: 0.9694Epoch 1/100\n",
            "23/23 [==============================] - 110s 5s/step - loss: 0.0831 - acc: 0.9708 - val_loss: 0.1001 - val_acc: 0.9469\n",
            "Epoch 53/100\n",
            "22/23 [===========================>..] - ETA: 4s - loss: 0.0913 - acc: 0.9752Epoch 1/100\n",
            "23/23 [==============================] - 110s 5s/step - loss: 0.0930 - acc: 0.9735 - val_loss: 0.1051 - val_acc: 0.9688\n",
            "Epoch 54/100\n",
            "22/23 [===========================>..] - ETA: 4s - loss: 0.1046 - acc: 0.9738Epoch 1/100\n",
            "23/23 [==============================] - 112s 5s/step - loss: 0.1023 - acc: 0.9749 - val_loss: 0.1025 - val_acc: 0.9625\n",
            "Epoch 55/100\n",
            "22/23 [===========================>..] - ETA: 4s - loss: 0.0820 - acc: 0.9744Epoch 1/100\n",
            "23/23 [==============================] - 112s 5s/step - loss: 0.0806 - acc: 0.9755 - val_loss: 0.1012 - val_acc: 0.9688\n",
            "Epoch 56/100\n",
            "22/23 [===========================>..] - ETA: 4s - loss: 0.0930 - acc: 0.9723Epoch 1/100\n",
            "23/23 [==============================] - 110s 5s/step - loss: 0.0936 - acc: 0.9721 - val_loss: 0.1085 - val_acc: 0.9531\n",
            "Epoch 57/100\n",
            "22/23 [===========================>..] - ETA: 3s - loss: 0.0949 - acc: 0.9596Epoch 1/100\n",
            "23/23 [==============================] - 108s 5s/step - loss: 0.0935 - acc: 0.9600 - val_loss: 0.1793 - val_acc: 0.9563\n",
            "Epoch 58/100\n",
            "22/23 [===========================>..] - ETA: 4s - loss: 0.0691 - acc: 0.9787Epoch 1/100\n",
            "23/23 [==============================] - 112s 5s/step - loss: 0.0689 - acc: 0.9783 - val_loss: 0.2592 - val_acc: 0.9312\n",
            "Epoch 59/100\n",
            "22/23 [===========================>..] - ETA: 3s - loss: 0.1112 - acc: 0.9636Epoch 1/100\n",
            "23/23 [==============================] - 110s 5s/step - loss: 0.1086 - acc: 0.9638 - val_loss: 0.1279 - val_acc: 0.9531\n",
            "Epoch 60/100\n",
            "22/23 [===========================>..] - ETA: 3s - loss: 0.0859 - acc: 0.9656Epoch 1/100\n",
            "23/23 [==============================] - 110s 5s/step - loss: 0.0849 - acc: 0.9657 - val_loss: 0.0740 - val_acc: 0.9688\n",
            "Epoch 61/100\n",
            "22/23 [===========================>..] - ETA: 4s - loss: 0.1002 - acc: 0.9645Epoch 1/100\n",
            "23/23 [==============================] - 111s 5s/step - loss: 0.0991 - acc: 0.9647 - val_loss: 0.0842 - val_acc: 0.9688\n",
            "Epoch 62/100\n",
            "22/23 [===========================>..] - ETA: 3s - loss: 0.0516 - acc: 0.9810Epoch 1/100\n",
            "23/23 [==============================] - 109s 5s/step - loss: 0.0543 - acc: 0.9791 - val_loss: 0.3033 - val_acc: 0.9594\n",
            "Epoch 63/100\n",
            "22/23 [===========================>..] - ETA: 3s - loss: 0.1232 - acc: 0.9551Epoch 1/100\n",
            "23/23 [==============================] - 108s 5s/step - loss: 0.1199 - acc: 0.9557 - val_loss: 0.1198 - val_acc: 0.9625\n",
            "Epoch 64/100\n",
            "22/23 [===========================>..] - ETA: 4s - loss: 0.1095 - acc: 0.9616Epoch 1/100\n",
            "23/23 [==============================] - 111s 5s/step - loss: 0.1068 - acc: 0.9620 - val_loss: 0.0776 - val_acc: 0.9688\n",
            "Epoch 65/100\n",
            "22/23 [===========================>..] - ETA: 3s - loss: 0.0927 - acc: 0.9716Epoch 1/100\n",
            "23/23 [==============================] - 110s 5s/step - loss: 0.0896 - acc: 0.9729 - val_loss: 0.0701 - val_acc: 0.9750\n",
            "Epoch 66/100\n",
            "22/23 [===========================>..] - ETA: 3s - loss: 0.0688 - acc: 0.9716Epoch 1/100\n",
            "23/23 [==============================] - 110s 5s/step - loss: 0.0683 - acc: 0.9715 - val_loss: 0.0981 - val_acc: 0.9719\n",
            "Epoch 67/100\n",
            "22/23 [===========================>..] - ETA: 3s - loss: 0.1431 - acc: 0.9548Epoch 1/100\n",
            "23/23 [==============================] - 109s 5s/step - loss: 0.1405 - acc: 0.9554 - val_loss: 0.1212 - val_acc: 0.9500\n",
            "Epoch 68/100\n",
            "22/23 [===========================>..] - ETA: 3s - loss: 0.0827 - acc: 0.9723Epoch 1/100\n",
            "23/23 [==============================] - 109s 5s/step - loss: 0.0796 - acc: 0.9735 - val_loss: 0.0703 - val_acc: 0.9750\n",
            "Epoch 69/100\n",
            "22/23 [===========================>..] - ETA: 3s - loss: 0.1369 - acc: 0.9723Epoch 1/100\n",
            "23/23 [==============================] - 109s 5s/step - loss: 0.1316 - acc: 0.9735 - val_loss: 0.1165 - val_acc: 0.9656\n",
            "Epoch 70/100\n",
            "22/23 [===========================>..] - ETA: 3s - loss: 0.0595 - acc: 0.9752Epoch 1/100\n",
            "23/23 [==============================] - 109s 5s/step - loss: 0.0570 - acc: 0.9763 - val_loss: 0.0522 - val_acc: 0.9812\n",
            "Epoch 71/100\n",
            "22/23 [===========================>..] - ETA: 3s - loss: 0.1134 - acc: 0.9650Epoch 1/100\n",
            "23/23 [==============================] - 111s 5s/step - loss: 0.1094 - acc: 0.9666 - val_loss: 0.0724 - val_acc: 0.9719\n",
            "Epoch 72/100\n",
            "22/23 [===========================>..] - ETA: 3s - loss: 0.1124 - acc: 0.9679Epoch 1/100\n",
            "23/23 [==============================] - 109s 5s/step - loss: 0.1132 - acc: 0.9680 - val_loss: 0.1240 - val_acc: 0.9594\n",
            "Epoch 73/100\n",
            "22/23 [===========================>..] - ETA: 3s - loss: 0.0466 - acc: 0.9854Epoch 1/100\n",
            "23/23 [==============================] - 103s 4s/step - loss: 0.0466 - acc: 0.9847 - val_loss: 0.0903 - val_acc: 0.9656\n",
            "Epoch 74/100\n",
            "22/23 [===========================>..] - ETA: 4s - loss: 0.0877 - acc: 0.9752Epoch 1/100\n",
            "23/23 [==============================] - 110s 5s/step - loss: 0.0857 - acc: 0.9749 - val_loss: 0.0848 - val_acc: 0.9781\n",
            "Epoch 75/100\n",
            "22/23 [===========================>..] - ETA: 4s - loss: 0.0920 - acc: 0.9752Epoch 1/100\n",
            "23/23 [==============================] - 110s 5s/step - loss: 0.0882 - acc: 0.9763 - val_loss: 0.0604 - val_acc: 0.9750\n",
            "Epoch 76/100\n",
            "22/23 [===========================>..] - ETA: 4s - loss: 0.0618 - acc: 0.9810Epoch 1/100\n",
            "23/23 [==============================] - 112s 5s/step - loss: 0.0628 - acc: 0.9805 - val_loss: 0.0714 - val_acc: 0.9688\n",
            "Epoch 77/100\n",
            "22/23 [===========================>..] - ETA: 4s - loss: 0.0648 - acc: 0.9738Epoch 1/100\n",
            "23/23 [==============================] - 110s 5s/step - loss: 0.0733 - acc: 0.9708 - val_loss: 0.2770 - val_acc: 0.9156\n",
            "Epoch 78/100\n",
            "22/23 [===========================>..] - ETA: 4s - loss: 0.0653 - acc: 0.9787Epoch 1/100\n",
            "23/23 [==============================] - 112s 5s/step - loss: 0.0663 - acc: 0.9783 - val_loss: 0.0931 - val_acc: 0.9656\n",
            "Epoch 79/100\n",
            "22/23 [===========================>..] - ETA: 3s - loss: 0.0813 - acc: 0.9716Epoch 1/100\n",
            "23/23 [==============================] - 108s 5s/step - loss: 0.0781 - acc: 0.9729 - val_loss: 0.0531 - val_acc: 0.9875\n",
            "Epoch 80/100\n",
            "22/23 [===========================>..] - ETA: 4s - loss: 0.0269 - acc: 0.9886Epoch 1/100\n",
            "23/23 [==============================] - 112s 5s/step - loss: 0.0273 - acc: 0.9891 - val_loss: 0.2432 - val_acc: 0.9438\n",
            "Epoch 81/100\n",
            "22/23 [===========================>..] - ETA: 4s - loss: 0.1193 - acc: 0.9592Epoch 1/100\n",
            "23/23 [==============================] - 110s 5s/step - loss: 0.1172 - acc: 0.9582 - val_loss: 0.0760 - val_acc: 0.9625\n",
            "Epoch 82/100\n",
            "22/23 [===========================>..] - ETA: 4s - loss: 0.0328 - acc: 0.9840Epoch 1/100\n",
            "23/23 [==============================] - 113s 5s/step - loss: 0.0319 - acc: 0.9847 - val_loss: 0.1377 - val_acc: 0.9688\n",
            "Epoch 83/100\n",
            "22/23 [===========================>..] - ETA: 3s - loss: 0.1627 - acc: 0.9656Epoch 1/100\n",
            "23/23 [==============================] - 108s 5s/step - loss: 0.1621 - acc: 0.9657 - val_loss: 0.0708 - val_acc: 0.9750\n",
            "Epoch 84/100\n",
            "22/23 [===========================>..] - ETA: 4s - loss: 0.0338 - acc: 0.9901Epoch 1/100\n",
            "23/23 [==============================] - 110s 5s/step - loss: 0.0672 - acc: 0.9796 - val_loss: 0.1348 - val_acc: 0.9531\n",
            "Epoch 85/100\n",
            "22/23 [===========================>..] - ETA: 3s - loss: 0.0877 - acc: 0.9679Epoch 1/100\n",
            "23/23 [==============================] - 109s 5s/step - loss: 0.0857 - acc: 0.9680 - val_loss: 0.0626 - val_acc: 0.9719\n",
            "Epoch 86/100\n",
            "22/23 [===========================>..] - ETA: 3s - loss: 0.0825 - acc: 0.9738Epoch 1/100\n",
            "23/23 [==============================] - 109s 5s/step - loss: 0.0833 - acc: 0.9721 - val_loss: 0.0527 - val_acc: 0.9781\n",
            "Epoch 87/100\n",
            "22/23 [===========================>..] - ETA: 3s - loss: 0.0185 - acc: 0.9942Epoch 1/100\n",
            "23/23 [==============================] - 111s 5s/step - loss: 0.0590 - acc: 0.9889 - val_loss: 0.2750 - val_acc: 0.9156\n",
            "Epoch 88/100\n",
            "22/23 [===========================>..] - ETA: 3s - loss: 0.1175 - acc: 0.9746Epoch 1/100\n",
            "23/23 [==============================] - 107s 5s/step - loss: 0.1140 - acc: 0.9743 - val_loss: 0.1219 - val_acc: 0.9688\n",
            "Epoch 89/100\n",
            "22/23 [===========================>..] - ETA: 4s - loss: 0.0650 - acc: 0.9744Epoch 1/100\n",
            "23/23 [==============================] - 111s 5s/step - loss: 0.0644 - acc: 0.9742 - val_loss: 0.0936 - val_acc: 0.9656\n",
            "Epoch 90/100\n",
            "22/23 [===========================>..] - ETA: 3s - loss: 0.0239 - acc: 0.9927Epoch 1/100\n",
            "23/23 [==============================] - 108s 5s/step - loss: 0.0229 - acc: 0.9930 - val_loss: 0.0805 - val_acc: 0.9875\n",
            "Epoch 91/100\n",
            "22/23 [===========================>..] - ETA: 3s - loss: 0.0970 - acc: 0.9708Epoch 1/100\n",
            "23/23 [==============================] - 109s 5s/step - loss: 0.0951 - acc: 0.9708 - val_loss: 0.1284 - val_acc: 0.9563\n",
            "Epoch 92/100\n",
            "22/23 [===========================>..] - ETA: 3s - loss: 0.0640 - acc: 0.9869Epoch 1/100\n",
            "23/23 [==============================] - 108s 5s/step - loss: 0.0642 - acc: 0.9861 - val_loss: 0.0881 - val_acc: 0.9812\n",
            "Epoch 93/100\n",
            "22/23 [===========================>..] - ETA: 3s - loss: 0.0726 - acc: 0.9796Epoch 1/100\n",
            "23/23 [==============================] - 111s 5s/step - loss: 0.0696 - acc: 0.9805 - val_loss: 0.1214 - val_acc: 0.9688\n",
            "Epoch 94/100\n",
            "22/23 [===========================>..] - ETA: 3s - loss: 0.0513 - acc: 0.9810Epoch 1/100\n",
            "23/23 [==============================] - 108s 5s/step - loss: 0.0520 - acc: 0.9805 - val_loss: 0.1298 - val_acc: 0.9656\n",
            "Epoch 95/100\n",
            "22/23 [===========================>..] - ETA: 3s - loss: 0.0663 - acc: 0.9767Epoch 1/100\n",
            "23/23 [==============================] - 108s 5s/step - loss: 0.0640 - acc: 0.9777 - val_loss: 0.0807 - val_acc: 0.9781\n",
            "Epoch 96/100\n",
            "22/23 [===========================>..] - ETA: 3s - loss: 0.0559 - acc: 0.9781Epoch 1/100\n",
            "23/23 [==============================] - 108s 5s/step - loss: 0.0565 - acc: 0.9777 - val_loss: 0.0479 - val_acc: 0.9875\n",
            "Epoch 97/100\n",
            "22/23 [===========================>..] - ETA: 3s - loss: 0.0687 - acc: 0.9781Epoch 1/100\n",
            "23/23 [==============================] - 102s 4s/step - loss: 0.0663 - acc: 0.9791 - val_loss: 0.0606 - val_acc: 0.9781\n",
            "Epoch 98/100\n",
            "22/23 [===========================>..] - ETA: 4s - loss: 0.0694 - acc: 0.9767Epoch 1/100\n",
            "23/23 [==============================] - 110s 5s/step - loss: 0.0673 - acc: 0.9777 - val_loss: 0.0993 - val_acc: 0.9656\n",
            "Epoch 99/100\n",
            "22/23 [===========================>..] - ETA: 4s - loss: 0.0699 - acc: 0.9759Epoch 1/100\n",
            "23/23 [==============================] - 113s 5s/step - loss: 0.0671 - acc: 0.9763 - val_loss: 0.0615 - val_acc: 0.9781\n",
            "Epoch 100/100\n",
            "22/23 [===========================>..] - ETA: 4s - loss: 0.0553 - acc: 0.9796Epoch 1/100\n",
            "23/23 [==============================] - 109s 5s/step - loss: 0.0530 - acc: 0.9805 - val_loss: 0.1052 - val_acc: 0.9719\n"
          ],
          "name": "stdout"
        }
      ]
    },
    {
      "cell_type": "code",
      "metadata": {
        "id": "lmeJaM-tm8JB",
        "colab_type": "code",
        "outputId": "1ef152d1-6f47-4d62-ccfb-efa47eb714cb",
        "colab": {
          "base_uri": "https://localhost:8080/",
          "height": 282
        }
      },
      "source": [
        "import matplotlib.pyplot as plt\n",
        "#print(history)\n",
        "t_a=history.history['acc']\n",
        "v_a=history.history['val_acc']\n",
        "plt.plot([i for i in range(0,len(t_a))],t_a)\n",
        "plt.plot([i for i in range(0,len(v_a))],v_a)\n"
      ],
      "execution_count": 0,
      "outputs": [
        {
          "output_type": "execute_result",
          "data": {
            "text/plain": [
              "[<matplotlib.lines.Line2D at 0x7f51e03efdd8>]"
            ]
          },
          "metadata": {
            "tags": []
          },
          "execution_count": 17
        },
        {
          "output_type": "display_data",
          "data": {
            "image/png": "[encoded data removed]",
            "text/plain": [
              "<Figure size 432x288 with 1 Axes>"
            ]
          },
          "metadata": {
            "tags": [],
            "needs_background": "light"
          }
        }
      ]
    },
    {
      "cell_type": "code",
      "metadata": {
        "id": "Dn1uAm7XV6Q-",
        "colab_type": "code",
        "outputId": "5b77ca9b-86b2-4c2f-b1df-e510ecad5b5d",
        "colab": {
          "resources": {
            "http://localhost:8080/nbextensions/google.colab/files.js": {
              "data": "Ly8gQ29weXJpZ2h0IDIwMTcgR29vZ2xlIExMQwovLwovLyBMaWNlbnNlZCB1bmRlciB0aGUgQXBhY2hlIExpY2Vuc2UsIFZlcnNpb24gMi4wICh0aGUgIkxpY2Vuc2UiKTsKLy8geW91IG1heSBub3QgdXNlIHRoaXMgZmlsZSBleGNlcHQgaW4gY29tcGxpYW5jZSB3aXRoIHRoZSBMaWNlbnNlLgovLyBZb3UgbWF5IG9idGFpbiBhIGNvcHkgb2YgdGhlIExpY2Vuc2UgYXQKLy8KLy8gICAgICBodHRwOi8vd3d3LmFwYWNoZS5vcmcvbGljZW5zZXMvTElDRU5TRS0yLjAKLy8KLy8gVW5sZXNzIHJlcXVpcmVkIGJ5IGFwcGxpY2FibGUgbGF3IG9yIGFncmVlZCB0byBpbiB3cml0aW5nLCBzb2Z0d2FyZQovLyBkaXN0cmlidXRlZCB1bmRlciB0aGUgTGljZW5zZSBpcyBkaXN0cmlidXRlZCBvbiBhbiAiQVMgSVMiIEJBU0lTLAovLyBXSVRIT1VUIFdBUlJBTlRJRVMgT1IgQ09ORElUSU9OUyBPRiBBTlkgS0lORCwgZWl0aGVyIGV4cHJlc3Mgb3IgaW1wbGllZC4KLy8gU2VlIHRoZSBMaWNlbnNlIGZvciB0aGUgc3BlY2lmaWMgbGFuZ3VhZ2UgZ292ZXJuaW5nIHBlcm1pc3Npb25zIGFuZAovLyBsaW1pdGF0aW9ucyB1bmRlciB0aGUgTGljZW5zZS4KCi8qKgogKiBAZmlsZW92ZXJ2aWV3IEhlbHBlcnMgZm9yIGdvb2dsZS5jb2xhYiBQeXRob24gbW9kdWxlLgogKi8KKGZ1bmN0aW9uKHNjb3BlKSB7CmZ1bmN0aW9uIHNwYW4odGV4dCwgc3R5bGVBdHRyaWJ1dGVzID0ge30pIHsKICBjb25zdCBlbGVtZW50ID0gZG9jdW1lbnQuY3JlYXRlRWxlbWVudCgnc3BhbicpOwogIGVsZW1lbnQudGV4dENvbnRlbnQgPSB0ZXh0OwogIGZvciAoY29uc3Qga2V5IG9mIE9iamVjdC5rZXlzKHN0eWxlQXR0cmlidXRlcykpIHsKICAgIGVsZW1lbnQuc3R5bGVba2V5XSA9IHN0eWxlQXR0cmlidXRlc1trZXldOwogIH0KICByZXR1cm4gZWxlbWVudDsKfQoKLy8gTWF4IG51bWJlciBvZiBieXRlcyB3aGljaCB3aWxsIGJlIHVwbG9hZGVkIGF0IGEgdGltZS4KY29uc3QgTUFYX1BBWUxPQURfU0laRSA9IDEwMCAqIDEwMjQ7Ci8vIE1heCBhbW91bnQgb2YgdGltZSB0byBibG9jayB3YWl0aW5nIGZvciB0aGUgdXNlci4KY29uc3QgRklMRV9DSEFOR0VfVElNRU9VVF9NUyA9IDMwICogMTAwMDsKCmZ1bmN0aW9uIF91cGxvYWRGaWxlcyhpbnB1dElkLCBvdXRwdXRJZCkgewogIGNvbnN0IHN0ZXBzID0gdXBsb2FkRmlsZXNTdGVwKGlucHV0SWQsIG91dHB1dElkKTsKICBjb25zdCBvdXRwdXRFbGVtZW50ID0gZG9jdW1lbnQuZ2V0RWxlbWVudEJ5SWQob3V0cHV0SWQpOwogIC8vIENhY2hlIHN0ZXBzIG9uIHRoZSBvdXRwdXRFbGVtZW50IHRvIG1ha2UgaXQgYXZhaWxhYmxlIGZvciB0aGUgbmV4dCBjYWxsCiAgLy8gdG8gdXBsb2FkRmlsZXNDb250aW51ZSBmcm9tIFB5dGhvbi4KICBvdXRwdXRFbGVtZW50LnN0ZXBzID0gc3RlcHM7CgogIHJldHVybiBfdXBsb2FkRmlsZXNDb250aW51ZShvdXRwdXRJZCk7Cn0KCi8vIFRoaXMgaXMgcm91Z2hseSBhbiBhc3luYyBnZW5lcmF0b3IgKG5vdCBzdXBwb3J0ZWQgaW4gdGhlIGJyb3dzZXIgeWV0KSwKLy8gd2hlcmUgdGhlcmUgYXJlIG11bHRpcGxlIGFzeW5jaHJvbm91cyBzdGVwcyBhbmQgdGhlIFB5dGhvbiBzaWRlIGlzIGdvaW5nCi8vIHRvIHBvbGwgZm9yIGNvbXBsZXRpb24gb2YgZWFjaCBzdGVwLgovLyBUaGlzIHVzZXMgYSBQcm9taXNlIHRvIGJsb2NrIHRoZSBweXRob24gc2lkZSBvbiBjb21wbGV0aW9uIG9mIGVhY2ggc3RlcCwKLy8gdGhlbiBwYXNzZXMgdGhlIHJlc3VsdCBvZiB0aGUgcHJldmlvdXMgc3RlcCBhcyB0aGUgaW5wdXQgdG8gdGhlIG5leHQgc3RlcC4KZnVuY3Rpb24gX3VwbG9hZEZpbGVzQ29udGludWUob3V0cHV0SWQpIHsKICBjb25zdCBvdXRwdXRFbGVtZW50ID0gZG9jdW1lbnQuZ2V0RWxlbWVudEJ5SWQob3V0cHV0SWQpOwogIGNvbnN0IHN0ZXBzID0gb3V0cHV0RWxlbWVudC5zdGVwczsKCiAgY29uc3QgbmV4dCA9IHN0ZXBzLm5leHQob3V0cHV0RWxlbWVudC5sYXN0UHJvbWlzZVZhbHVlKTsKICByZXR1cm4gUHJvbWlzZS5yZXNvbHZlKG5leHQudmFsdWUucHJvbWlzZSkudGhlbigodmFsdWUpID0+IHsKICAgIC8vIENhY2hlIHRoZSBsYXN0IHByb21pc2UgdmFsdWUgdG8gbWFrZSBpdCBhdmFpbGFibGUgdG8gdGhlIG5leHQKICAgIC8vIHN0ZXAgb2YgdGhlIGdlbmVyYXRvci4KICAgIG91dHB1dEVsZW1lbnQubGFzdFByb21pc2VWYWx1ZSA9IHZhbHVlOwogICAgcmV0dXJuIG5leHQudmFsdWUucmVzcG9uc2U7CiAgfSk7Cn0KCi8qKgogKiBHZW5lcmF0b3IgZnVuY3Rpb24gd2hpY2ggaXMgY2FsbGVkIGJldHdlZW4gZWFjaCBhc3luYyBzdGVwIG9mIHRoZSB1cGxvYWQKICogcHJvY2Vzcy4KICogQHBhcmFtIHtzdHJpbmd9IGlucHV0SWQgRWxlbWVudCBJRCBvZiB0aGUgaW5wdXQgZmlsZSBwaWNrZXIgZWxlbWVudC4KICogQHBhcmFtIHtzdHJpbmd9IG91dHB1dElkIEVsZW1lbnQgSUQgb2YgdGhlIG91dHB1dCBkaXNwbGF5LgogKiBAcmV0dXJuIHshSXRlcmFibGU8IU9iamVjdD59IEl0ZXJhYmxlIG9mIG5leHQgc3RlcHMuCiAqLwpmdW5jdGlvbiogdXBsb2FkRmlsZXNTdGVwKGlucHV0SWQsIG91dHB1dElkKSB7CiAgY29uc3QgaW5wdXRFbGVtZW50ID0gZG9jdW1lbnQuZ2V0RWxlbWVudEJ5SWQoaW5wdXRJZCk7CiAgaW5wdXRFbGVtZW50LmRpc2FibGVkID0gZmFsc2U7CgogIGNvbnN0IG91dHB1dEVsZW1lbnQgPSBkb2N1bWVudC5nZXRFbGVtZW50QnlJZChvdXRwdXRJZCk7CiAgb3V0cHV0RWxlbWVudC5pbm5lckhUTUwgPSAnJzsKCiAgY29uc3QgcGlja2VkUHJvbWlzZSA9IG5ldyBQcm9taXNlKChyZXNvbHZlKSA9PiB7CiAgICBpbnB1dEVsZW1lbnQuYWRkRXZlbnRMaXN0ZW5lcignY2hhbmdlJywgKGUpID0+IHsKICAgICAgcmVzb2x2ZShlLnRhcmdldC5maWxlcyk7CiAgICB9KTsKICB9KTsKCiAgY29uc3QgY2FuY2VsID0gZG9jdW1lbnQuY3JlYXRlRWxlbWVudCgnYnV0dG9uJyk7CiAgaW5wdXRFbGVtZW50LnBhcmVudEVsZW1lbnQuYXBwZW5kQ2hpbGQoY2FuY2VsKTsKICBjYW5jZWwudGV4dENvbnRlbnQgPSAnQ2FuY2VsIHVwbG9hZCc7CiAgY29uc3QgY2FuY2VsUHJvbWlzZSA9IG5ldyBQcm9taXNlKChyZXNvbHZlKSA9PiB7CiAgICBjYW5jZWwub25jbGljayA9ICgpID0+IHsKICAgICAgcmVzb2x2ZShudWxsKTsKICAgIH07CiAgfSk7CgogIC8vIENhbmNlbCB1cGxvYWQgaWYgdXNlciBoYXNuJ3QgcGlja2VkIGFueXRoaW5nIGluIHRpbWVvdXQuCiAgY29uc3QgdGltZW91dFByb21pc2UgPSBuZXcgUHJvbWlzZSgocmVzb2x2ZSkgPT4gewogICAgc2V0VGltZW91dCgoKSA9PiB7CiAgICAgIHJlc29sdmUobnVsbCk7CiAgICB9LCBGSUxFX0NIQU5HRV9USU1FT1VUX01TKTsKICB9KTsKCiAgLy8gV2FpdCBmb3IgdGhlIHVzZXIgdG8gcGljayB0aGUgZmlsZXMuCiAgY29uc3QgZmlsZXMgPSB5aWVsZCB7CiAgICBwcm9taXNlOiBQcm9taXNlLnJhY2UoW3BpY2tlZFByb21pc2UsIHRpbWVvdXRQcm9taXNlLCBjYW5jZWxQcm9taXNlXSksCiAgICByZXNwb25zZTogewogICAgICBhY3Rpb246ICdzdGFydGluZycsCiAgICB9CiAgfTsKCiAgaWYgKCFmaWxlcykgewogICAgcmV0dXJuIHsKICAgICAgcmVzcG9uc2U6IHsKICAgICAgICBhY3Rpb246ICdjb21wbGV0ZScsCiAgICAgIH0KICAgIH07CiAgfQoKICBjYW5jZWwucmVtb3ZlKCk7CgogIC8vIERpc2FibGUgdGhlIGlucHV0IGVsZW1lbnQgc2luY2UgZnVydGhlciBwaWNrcyBhcmUgbm90IGFsbG93ZWQuCiAgaW5wdXRFbGVtZW50LmRpc2FibGVkID0gdHJ1ZTsKCiAgZm9yIChjb25zdCBmaWxlIG9mIGZpbGVzKSB7CiAgICBjb25zdCBsaSA9IGRvY3VtZW50LmNyZWF0ZUVsZW1lbnQoJ2xpJyk7CiAgICBsaS5hcHBlbmQoc3BhbihmaWxlLm5hbWUsIHtmb250V2VpZ2h0OiAnYm9sZCd9KSk7CiAgICBsaS5hcHBlbmQoc3BhbigKICAgICAgICBgKCR7ZmlsZS50eXBlIHx8ICduL2EnfSkgLSAke2ZpbGUuc2l6ZX0gYnl0ZXMsIGAgKwogICAgICAgIGBsYXN0IG1vZGlmaWVkOiAkewogICAgICAgICAgICBmaWxlLmxhc3RNb2RpZmllZERhdGUgPyBmaWxlLmxhc3RNb2RpZmllZERhdGUudG9Mb2NhbGVEYXRlU3RyaW5nKCkgOgogICAgICAgICAgICAgICAgICAgICAgICAgICAgICAgICAgICAnbi9hJ30gLSBgKSk7CiAgICBjb25zdCBwZXJjZW50ID0gc3BhbignMCUgZG9uZScpOwogICAgbGkuYXBwZW5kQ2hpbGQocGVyY2VudCk7CgogICAgb3V0cHV0RWxlbWVudC5hcHBlbmRDaGlsZChsaSk7CgogICAgY29uc3QgZmlsZURhdGFQcm9taXNlID0gbmV3IFByb21pc2UoKHJlc29sdmUpID0+IHsKICAgICAgY29uc3QgcmVhZGVyID0gbmV3IEZpbGVSZWFkZXIoKTsKICAgICAgcmVhZGVyLm9ubG9hZCA9IChlKSA9PiB7CiAgICAgICAgcmVzb2x2ZShlLnRhcmdldC5yZXN1bHQpOwogICAgICB9OwogICAgICByZWFkZXIucmVhZEFzQXJyYXlCdWZmZXIoZmlsZSk7CiAgICB9KTsKICAgIC8vIFdhaXQgZm9yIHRoZSBkYXRhIHRvIGJlIHJlYWR5LgogICAgbGV0IGZpbGVEYXRhID0geWllbGQgewogICAgICBwcm9taXNlOiBmaWxlRGF0YVByb21pc2UsCiAgICAgIHJlc3BvbnNlOiB7CiAgICAgICAgYWN0aW9uOiAnY29udGludWUnLAogICAgICB9CiAgICB9OwoKICAgIC8vIFVzZSBhIGNodW5rZWQgc2VuZGluZyB0byBhdm9pZCBtZXNzYWdlIHNpemUgbGltaXRzLiBTZWUgYi82MjExNTY2MC4KICAgIGxldCBwb3NpdGlvbiA9IDA7CiAgICB3aGlsZSAocG9zaXRpb24gPCBmaWxlRGF0YS5ieXRlTGVuZ3RoKSB7CiAgICAgIGNvbnN0IGxlbmd0aCA9IE1hdGgubWluKGZpbGVEYXRhLmJ5dGVMZW5ndGggLSBwb3NpdGlvbiwgTUFYX1BBWUxPQURfU0laRSk7CiAgICAgIGNvbnN0IGNodW5rID0gbmV3IFVpbnQ4QXJyYXkoZmlsZURhdGEsIHBvc2l0aW9uLCBsZW5ndGgpOwogICAgICBwb3NpdGlvbiArPSBsZW5ndGg7CgogICAgICBjb25zdCBiYXNlNjQgPSBidG9hKFN0cmluZy5mcm9tQ2hhckNvZGUuYXBwbHkobnVsbCwgY2h1bmspKTsKICAgICAgeWllbGQgewogICAgICAgIHJlc3BvbnNlOiB7CiAgICAgICAgICBhY3Rpb246ICdhcHBlbmQnLAogICAgICAgICAgZmlsZTogZmlsZS5uYW1lLAogICAgICAgICAgZGF0YTogYmFzZTY0LAogICAgICAgIH0sCiAgICAgIH07CiAgICAgIHBlcmNlbnQudGV4dENvbnRlbnQgPQogICAgICAgICAgYCR7TWF0aC5yb3VuZCgocG9zaXRpb24gLyBmaWxlRGF0YS5ieXRlTGVuZ3RoKSAqIDEwMCl9JSBkb25lYDsKICAgIH0KICB9CgogIC8vIEFsbCBkb25lLgogIHlpZWxkIHsKICAgIHJlc3BvbnNlOiB7CiAgICAgIGFjdGlvbjogJ2NvbXBsZXRlJywKICAgIH0KICB9Owp9CgpzY29wZS5nb29nbGUgPSBzY29wZS5nb29nbGUgfHwge307CnNjb3BlLmdvb2dsZS5jb2xhYiA9IHNjb3BlLmdvb2dsZS5jb2xhYiB8fCB7fTsKc2NvcGUuZ29vZ2xlLmNvbGFiLl9maWxlcyA9IHsKICBfdXBsb2FkRmlsZXMsCiAgX3VwbG9hZEZpbGVzQ29udGludWUsCn07Cn0pKHNlbGYpOwo=",
              "ok": true,
              "headers": [
                [
                  "content-type",
                  "application/javascript"
                ]
              ],
              "status": 200,
              "status_text": ""
            }
          },
          "base_uri": "https://localhost:8080/",
          "height": 310
        }
      },
      "source": [
        "\n",
        "\n",
        "import numpy as np\n",
        "import tensorflow as tf\n",
        "\n",
        "from google.colab import files\n",
        "from keras.preprocessing import image\n",
        "\n",
        "uploaded=files.upload()\n",
        "#model=tf.keras.models.load_model('/content/model1.h5')\n",
        "\n",
        "for fn in uploaded.keys():\n",
        " \n",
        "  # predicting images\n",
        "  path='/content/' + fn\n",
        "  img=image.load_img(path, target_size=(150, 150))\n",
        "  \n",
        "  x=image.img_to_array(img)\n",
        "  x=np.expand_dims(x, axis=0)\n",
        "  images = np.vstack([x])\n",
        "  \n",
        "  classes = model.predict(images, batch_size=10)\n",
        "  \n",
        "  \n",
        "  print(classes[0])\n",
        "  if classes[0]>0.5:\n",
        "    print(fn + \" no mask\")\n",
        "    \n",
        "  else:\n",
        "    print(fn + \" is a mask\")\n",
        " "
      ],
      "execution_count": 0,
      "outputs": [
        {
          "output_type": "display_data",
          "data": {
            "text/html": [
              "\n",
              "     <input type=\"file\" id=\"files-9e025232-da50-420d-9239-a6ca10e062b3\" name=\"files[]\" multiple disabled />\n",
              "     <output id=\"result-9e025232-da50-420d-9239-a6ca10e062b3\">\n",
              "      Upload widget is only available when the cell has been executed in the\n",
              "      current browser session. Please rerun this cell to enable.\n",
              "      </output>\n",
              "      <script src=\"/nbextensions/google.colab/files.js\"></script> "
            ],
            "text/plain": [
              "<IPython.core.display.HTML object>"
            ]
          },
          "metadata": {
            "tags": []
          }
        },
        {
          "output_type": "stream",
          "text": [
            "Saving Adam_Rich_0001.jpg to Adam_Rich_0001.jpg\n",
            "Saving Adam_Sandler_0001.jpg to Adam_Sandler_0001.jpg\n",
            "Saving Adam_Sandler_0004.jpg to Adam_Sandler_0004.jpg\n",
            "Saving Adam_Scott_0002.jpg to Adam_Scott_0002.jpg\n",
            "[0.]\n",
            "Adam_Rich_0001.jpg is a mask\n",
            "[1.]\n",
            "Adam_Sandler_0001.jpg no mask\n",
            "[1.]\n",
            "Adam_Sandler_0004.jpg no mask\n",
            "[1.]\n",
            "Adam_Scott_0002.jpg no mask\n"
          ],
          "name": "stdout"
        }
      ]
    },
    {
      "cell_type": "code",
      "metadata": {
        "id": "YdIlBRGOWA55",
        "colab_type": "code",
        "colab": {}
      },
      "source": [
        "model.save(\"model2.h5\")"
      ],
      "execution_count": 0,
      "outputs": []
    },
    {
      "cell_type": "code",
      "metadata": {
        "id": "MFsWKqEtWp7H",
        "colab_type": "code",
        "colab": {}
      },
      "source": [
        ""
      ],
      "execution_count": 0,
      "outputs": []
    }
  ]
}
